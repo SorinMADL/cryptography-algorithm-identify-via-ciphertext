{
 "cells": [
  {
   "cell_type": "code",
   "execution_count": 1,
   "metadata": {},
   "outputs": [],
   "source": [
    "# import the libs.\n",
    "from Crypto.Cipher import AES\n",
    "from Crypto.Random import get_random_bytes\n",
    "import random\n",
    "import base64"
   ]
  },
  {
   "cell_type": "code",
   "execution_count": 2,
   "metadata": {},
   "outputs": [],
   "source": [
    "# helper: enc secret with some algs :)\n",
    "\n",
    "def enc_secret(secret, alg=0):\n",
    "    to_ret = ''\n",
    "    if alg == 0:\n",
    "        kc = get_random_bytes(16)\n",
    "        iv = get_random_bytes(16)\n",
    "        aes_obj = AES.new(kc, AES.MODE_CBC, iv)\n",
    "        enc = aes_obj.encrypt(get_random_bytes(secret))\n",
    "        enc_base64 = str(base64.b64encode(enc), 'utf8')\n",
    "        to_ret = [ord(x) for x in enc_base64]\n",
    "    \n",
    "    if alg == 1:\n",
    "        to_ret = [random.randint(0, 256) for i in range(secret)] # random plain-ascii-chars\n",
    "        \n",
    "    return to_ret\n",
    " \n",
    "    \n",
    "# helpers: generate n enc_secrets\n",
    "\n",
    "def get_n_enc_secrets(n_secrets, len_secret=32, alg=0): # alg = 0 for AES, 1 for random_str\n",
    "    to_ret = list()\n",
    "    \n",
    "    for i in range(n_secrets):\n",
    "        encoded = enc_secret(len_secret, alg)[:len_secret]\n",
    "        \n",
    "        if alg == 0:\n",
    "            encoded.extend([1, 0])\n",
    "            to_ret.append(encoded)\n",
    "            \n",
    "        if alg == 1:\n",
    "            encoded.extend([0, 1])\n",
    "            to_ret.append(encoded)\n",
    "        \n",
    "    return to_ret"
   ]
  },
  {
   "cell_type": "code",
   "execution_count": 3,
   "metadata": {},
   "outputs": [],
   "source": [
    "import pandas as pd"
   ]
  },
  {
   "cell_type": "code",
   "execution_count": 4,
   "metadata": {},
   "outputs": [
    {
     "name": "stdout",
     "output_type": "stream",
     "text": [
      "Done aes\n",
      "Done rand\n"
     ]
    }
   ],
   "source": [
    "aes_enc = get_n_enc_secrets(50000, alg=0) # generate 50k ciphertexts\n",
    "print('Done aes')\n",
    "\n",
    "rand_enc = get_n_enc_secrets(50000, alg=1) # generate 50k rand_str\n",
    "print('Done rand')\n",
    "\n",
    "data = list()\n",
    "data.extend(aes_enc)\n",
    "data.extend(rand_enc) # create one dataframe with all generated texts\n",
    "\n",
    "df = pd.DataFrame(data)\n",
    "df.to_csv('data_for_experiment.csv')"
   ]
  },
  {
   "cell_type": "code",
   "execution_count": 5,
   "metadata": {},
   "outputs": [],
   "source": [
    "df = df.sample(frac=1).reset_index(drop=True) # shuffle the dataframe"
   ]
  },
  {
   "cell_type": "code",
   "execution_count": 6,
   "metadata": {},
   "outputs": [],
   "source": [
    "train = df.sample(frac=0.99,random_state=200) # split in 99k and 1 k, 99k for train\n",
    "others = df.drop(train.index)"
   ]
  },
  {
   "cell_type": "code",
   "execution_count": 7,
   "metadata": {},
   "outputs": [],
   "source": [
    "cross = others.sample(frac=0.5,random_state=200) # stplit in 500 for dev set and 500 for test set\n",
    "test = others.drop(cross.index)"
   ]
  },
  {
   "cell_type": "code",
   "execution_count": 8,
   "metadata": {},
   "outputs": [],
   "source": [
    "# save the datasets\n",
    "train.to_csv('train.csv')\n",
    "cross.to_csv('cross.csv')\n",
    "test.to_csv('test.csv')"
   ]
  }
 ],
 "metadata": {
  "kernelspec": {
   "display_name": "Python 3",
   "language": "python",
   "name": "python3"
  },
  "language_info": {
   "codemirror_mode": {
    "name": "ipython",
    "version": 3
   },
   "file_extension": ".py",
   "mimetype": "text/x-python",
   "name": "python",
   "nbconvert_exporter": "python",
   "pygments_lexer": "ipython3",
   "version": "3.7.4"
  }
 },
 "nbformat": 4,
 "nbformat_minor": 2
}
